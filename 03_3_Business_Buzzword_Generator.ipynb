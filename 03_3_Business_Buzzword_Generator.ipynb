{
  "cells": [
    {
      "cell_type": "markdown",
      "metadata": {
        "id": "view-in-github",
        "colab_type": "text"
      },
      "source": [
        "<a href=\"https://colab.research.google.com/github/isys5002-itp/ISYS5002-2023-Semester1/blob/main/03_3_Business_Buzzword_Generator.ipynb\" target=\"_parent\"><img src=\"https://colab.research.google.com/assets/colab-badge.svg\" alt=\"Open In Colab\"/></a>"
      ]
    },
    {
      "cell_type": "markdown",
      "id": "f8b21259-c1a0-4ecb-a02f-e35565841067",
      "metadata": {
        "id": "f8b21259-c1a0-4ecb-a02f-e35565841067"
      },
      "source": [
        "# Business Buzzword Generator\n",
        "\n",
        "Lets write a real-world business application using Python. We want to write a program to genrate business phrases. The program takes three lists of words, randomly picks one word from each list, combines the words into a phrase, and then prints out the phrase. Here is the psuedocode:\n",
        "\n",
        "    importing the random module\n",
        "    make three lists, one of buzzword, one of actions, and one of outcomes\n",
        "    randomly choose one buzzword, action, and outcome from each list\n",
        "    now build the phrase by \"adding\" the words together\n",
        "    output the phrase\n",
        "    \n",
        "A good use of pseudocode is each line becomes comments in the code. Each line of pseudo code has been pasted into a cell below.  Try to implement each as python statement or statements."
      ]
    },
    {
      "cell_type": "code",
      "execution_count": 1,
      "id": "6b9a2fc6-f8ae-4778-a5e7-9659136091fd",
      "metadata": {
        "id": "6b9a2fc6-f8ae-4778-a5e7-9659136091fd"
      },
      "outputs": [],
      "source": [
        "# importing the random module\n",
        "import random"
      ]
    },
    {
      "cell_type": "code",
      "execution_count": 12,
      "id": "52db4e24-c2e3-46f2-8a96-0fece1f437f2",
      "metadata": {
        "id": "52db4e24-c2e3-46f2-8a96-0fece1f437f2"
      },
      "outputs": [],
      "source": [
        "#  make three lists, one of buzzwords, one of actions, and one of outcomes\n",
        "buzzwords = ['Content is king', 'Move the needle', 'Leverage', 'Quick win']\n",
        "actions = ['Accelerate', 'Amplify', 'Diversify']\n",
        "outcomes = ['Conversion rate', 'Social Impact', 'Customer Satisfaction']"
      ]
    },
    {
      "cell_type": "code",
      "execution_count": 13,
      "id": "2538b8fa-1dc9-4bfd-84d8-6753b9a88218",
      "metadata": {
        "id": "2538b8fa-1dc9-4bfd-84d8-6753b9a88218"
      },
      "outputs": [],
      "source": [
        "# randomly choose one buzzword, action, and outcome from each list\n",
        "buzzword = random.choice(buzzwords)\n",
        "action = random.choice(actions)\n",
        "outcome = random.choice(outcomes)"
      ]
    },
    {
      "cell_type": "code",
      "execution_count": 14,
      "id": "95c40fea-40d0-49e6-afe5-c181da731368",
      "metadata": {
        "id": "95c40fea-40d0-49e6-afe5-c181da731368"
      },
      "outputs": [],
      "source": [
        "# build the phrase by \"adding\" the words together\n",
        "phrase = buzzword + \" \" + action + \" \" + outcome"
      ]
    },
    {
      "cell_type": "code",
      "execution_count": 15,
      "id": "3e36c71d-ef4b-40d5-ac7f-a7717460e28f",
      "metadata": {
        "id": "3e36c71d-ef4b-40d5-ac7f-a7717460e28f",
        "colab": {
          "base_uri": "https://localhost:8080/"
        },
        "outputId": "02fe891d-93d2-4c8d-a198-72b3cc910d10"
      },
      "outputs": [
        {
          "output_type": "stream",
          "name": "stdout",
          "text": [
            "Quick win Amplify Conversion rate\n"
          ]
        }
      ],
      "source": [
        "# output the phrase\n",
        "print(phrase)"
      ]
    },
    {
      "cell_type": "code",
      "source": [
        "print (f'{buzzword} {action} {outcome}')"
      ],
      "metadata": {
        "colab": {
          "base_uri": "https://localhost:8080/"
        },
        "id": "BTmkmXo2sUpi",
        "outputId": "120a8d15-ac67-438d-d344-3ce4e59b825e"
      },
      "id": "BTmkmXo2sUpi",
      "execution_count": 16,
      "outputs": [
        {
          "output_type": "stream",
          "name": "stdout",
          "text": [
            "Quick win Amplify Conversion rate\n"
          ]
        }
      ]
    },
    {
      "cell_type": "code",
      "execution_count": null,
      "id": "71838d24-05d5-44cb-ae5a-1195fd805622",
      "metadata": {
        "id": "71838d24-05d5-44cb-ae5a-1195fd805622"
      },
      "outputs": [],
      "source": []
    }
  ],
  "metadata": {
    "kernelspec": {
      "display_name": "Python 3 (ipykernel)",
      "language": "python",
      "name": "python3"
    },
    "language_info": {
      "codemirror_mode": {
        "name": "ipython",
        "version": 3
      },
      "file_extension": ".py",
      "mimetype": "text/x-python",
      "name": "python",
      "nbconvert_exporter": "python",
      "pygments_lexer": "ipython3",
      "version": "3.9.6"
    },
    "colab": {
      "provenance": [],
      "include_colab_link": true
    }
  },
  "nbformat": 4,
  "nbformat_minor": 5
}