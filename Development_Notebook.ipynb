{
  "cells": [
    {
      "cell_type": "markdown",
      "metadata": {
        "id": "view-in-github",
        "colab_type": "text"
      },
      "source": [
        "<a href=\"https://colab.research.google.com/github/Kunjpatelcurtin/ISYS5002-2023-Semester1/blob/main/Development_Notebook.ipynb\" target=\"_parent\"><img src=\"https://colab.research.google.com/assets/colab-badge.svg\" alt=\"Open In Colab\"/></a>"
      ]
    },
    {
      "cell_type": "code",
      "source": [
        "#Beez assisment \n",
        "#Installing the Libraries\n",
        "import sqlite3\n",
        "import pandas as pd # for data frame \n",
        "import numpy as np #For numarical sturucter\n",
        "import matplotlib.pyplot as plt # For ploating \n",
        "\n",
        "#for geeting the file from Pc\n",
        "from google.colab import files\n",
        "import io #import output module For file type "
      ],
      "metadata": {
        "id": "7oWK7jx6iWTm"
      },
      "execution_count": 1,
      "outputs": []
    }
  ],
  "metadata": {
    "colab": {
      "provenance": [],
      "include_colab_link": true
    },
    "kernelspec": {
      "display_name": "Python 3",
      "name": "python3"
    }
  },
  "nbformat": 4,
  "nbformat_minor": 0
}