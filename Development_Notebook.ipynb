{
  "cells": [
    {
      "cell_type": "markdown",
      "metadata": {
        "id": "view-in-github",
        "colab_type": "text"
      },
      "source": [
        "<a href=\"https://colab.research.google.com/github/Kunjpatelcurtin/ISYS5002-2023-Semester1/blob/main/Development_Notebook.ipynb\" target=\"_parent\"><img src=\"https://colab.research.google.com/assets/colab-badge.svg\" alt=\"Open In Colab\"/></a>"
      ]
    },
    {
      "cell_type": "code",
      "source": [
        "#Beez assisment \n",
        "#Installing the Libraries\n",
        "import sqlite3\n",
        "import pandas as pd # for data frame \n",
        "import ipywidgets as widgets\n",
        "import matplotlib.pyplot as plt # For ploating \n",
        "\n",
        "# Connect to the BeeGeez Sales Data SQLite database using the SQLite3 library.\n",
        "connection = sqlite3.connect(\"beegeez_sales_data_sqlite3.db\")\n",
        "\n",
        "\n",
        "# Examine the schema of the database and understand the structure of the tables.\n",
        "\n",
        "cursor = connection.cursor()\n",
        "\n",
        "cursor.execute = (\"SELECT * FROM beegeez_sales_data_sqlite3.db \")\n",
        "\n",
        "products_table = cursor.fetchall()\n",
        "\n",
        "cursor.execute(\"SELECT * FROM sales\")\n",
        "\n",
        "sales_table = cursor.fetchall()\n",
        "\n",
        "query = \"\"\"\n",
        "SELECT product_id, product_name, product_type, price, quantity_sold, revenue, profit\n",
        "FROM sales\n",
        "GROUP BY product_id\n",
        "ORDER BY revenue DESC\n",
        "\"\"\"\n"
      ],
      "metadata": {
        "id": "7oWK7jx6iWTm",
        "colab": {
          "base_uri": "https://localhost:8080/",
          "height": 235
        },
        "outputId": "0542d272-73ac-48be-a83f-d9c5a6c35567"
      },
      "execution_count": 14,
      "outputs": [
        {
          "output_type": "error",
          "ename": "AttributeError",
          "evalue": "ignored",
          "traceback": [
            "\u001b[0;31m---------------------------------------------------------------------------\u001b[0m",
            "\u001b[0;31mAttributeError\u001b[0m                            Traceback (most recent call last)",
            "\u001b[0;32m<ipython-input-14-bdaf672475d1>\u001b[0m in \u001b[0;36m<cell line: 16>\u001b[0;34m()\u001b[0m\n\u001b[1;32m     14\u001b[0m \u001b[0mcursor\u001b[0m \u001b[0;34m=\u001b[0m \u001b[0mconnection\u001b[0m\u001b[0;34m.\u001b[0m\u001b[0mcursor\u001b[0m\u001b[0;34m(\u001b[0m\u001b[0;34m)\u001b[0m\u001b[0;34m\u001b[0m\u001b[0;34m\u001b[0m\u001b[0m\n\u001b[1;32m     15\u001b[0m \u001b[0;34m\u001b[0m\u001b[0m\n\u001b[0;32m---> 16\u001b[0;31m \u001b[0mcursor\u001b[0m\u001b[0;34m.\u001b[0m\u001b[0mexecute\u001b[0m \u001b[0;34m=\u001b[0m \u001b[0;34m(\u001b[0m\u001b[0;34m\"SELECT * FROM beegeez_sales_data_sqlite3.db \"\u001b[0m\u001b[0;34m)\u001b[0m\u001b[0;34m\u001b[0m\u001b[0;34m\u001b[0m\u001b[0m\n\u001b[0m\u001b[1;32m     17\u001b[0m \u001b[0;34m\u001b[0m\u001b[0m\n\u001b[1;32m     18\u001b[0m \u001b[0mproducts_table\u001b[0m \u001b[0;34m=\u001b[0m \u001b[0mcursor\u001b[0m\u001b[0;34m.\u001b[0m\u001b[0mfetchall\u001b[0m\u001b[0;34m(\u001b[0m\u001b[0;34m)\u001b[0m\u001b[0;34m\u001b[0m\u001b[0;34m\u001b[0m\u001b[0m\n",
            "\u001b[0;31mAttributeError\u001b[0m: 'sqlite3.Cursor' object attribute 'execute' is read-only"
          ]
        }
      ]
    },
    {
      "cell_type": "code",
      "source": [
        "from google.colab import drive\n",
        "drive.mount('/content/drive')"
      ],
      "metadata": {
        "colab": {
          "base_uri": "https://localhost:8080/"
        },
        "id": "Hd-rCPX_xebl",
        "outputId": "18f9db8f-a026-424f-d0fd-af49f404f0e7"
      },
      "execution_count": 9,
      "outputs": [
        {
          "output_type": "stream",
          "name": "stdout",
          "text": [
            "Drive already mounted at /content/drive; to attempt to forcibly remount, call drive.mount(\"/content/drive\", force_remount=True).\n"
          ]
        }
      ]
    }
  ],
  "metadata": {
    "colab": {
      "provenance": [],
      "include_colab_link": true
    },
    "kernelspec": {
      "display_name": "Python 3",
      "name": "python3"
    }
  },
  "nbformat": 4,
  "nbformat_minor": 0
}