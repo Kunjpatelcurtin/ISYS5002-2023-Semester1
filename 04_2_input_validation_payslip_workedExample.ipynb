{
  "cells": [
    {
      "cell_type": "markdown",
      "metadata": {
        "id": "view-in-github",
        "colab_type": "text"
      },
      "source": [
        "<a href=\"https://colab.research.google.com/github/isys5002-itp/ISYS5002-2023-Semester1/blob/main/04_2_input_validation_payslip_workedExample.ipynb\" target=\"_parent\"><img src=\"https://colab.research.google.com/assets/colab-badge.svg\" alt=\"Open In Colab\"/></a>"
      ]
    },
    {
      "cell_type": "markdown",
      "metadata": {
        "id": "kF8ldRydTDPx"
      },
      "source": [
        "# Payslip\n",
        "\n",
        "A payslip is a document that shows their total wages earned for a set period. \n",
        "This might be from a salary, hourly wages or commission. Payslips are also know as ‘pay advice’.  Traditionally the payslip was a paper document attached. Today\n",
        "most organisations provide them electronically.\n",
        "\n",
        "## Task 0 - Import into GitHub\n",
        "First, import the notebook into Colab and save an initial copy to GitHub.\n",
        "\n",
        "## Task 1 - Start Simple\n",
        "\n",
        "Writing complete robust programs can take time.  Often the more we understand a problem the easier it is to implement the solution.   One approach is to implement the simplest version of a program and then slowly add functionality.\n",
        "\n",
        "This notebook aims to start simple and slowly build up the program.\n",
        "The approach we take below is one way to understand a problem, step 1 of our development process. Complex projects, often follow a similar idea\n",
        "where they implement a minimal program, and each week or month has intense periods where the team adds functionality.  These advanced methodologies are beyond the scope of an introductory programming course but by starting small and slowly adding functionality we do capture the essence of the process.\n",
        "\n"
      ]
    },
    {
      "cell_type": "code",
      "execution_count": 7,
      "metadata": {
        "id": "cJwgf8nZWDF6"
      },
      "outputs": [],
      "source": [
        "# FUNCTION: calculate_pay\n",
        "# create function to calculate pay\n",
        "\n",
        "def calculate_pay(salary, sales, comm):\n",
        "  # calculate the commision\n",
        "  commission = (comm/100) * sales\n",
        "\n",
        "  # calculate the tax\n",
        "  tax = (salary + commission) * 0.10\n",
        "\n",
        "  # calculate the pay\n",
        "  pay = salary + commission - tax\n",
        "\n",
        "  #print(commission, tax, pay)\n",
        "  return commission, tax, pay\n",
        " "
      ]
    },
    {
      "cell_type": "code",
      "source": [
        "# PUTTING IT ALL TOGETHER\n",
        "\n",
        "# get user input - name\n",
        "name = input(\"Please enter name: \")\n",
        "\n",
        "# get user input for salary\n",
        "salary = int(input(\"Please enter salary: \"))\n",
        "\n",
        "# get user input for sales\n",
        "sales = int(input(\"Please enter sales: \"))\n",
        "\n",
        "# get user input for commission\n",
        "comm_rate = float(input(\"Please enter commission rate: \"))\n",
        "\n",
        "# pass the salary, sales & commission values to function calculate_pay\n",
        "# receive/capture the return values from the function\n",
        "comm_result, tax_result, pay_result = calculate_pay(salary, sales, comm_rate)\n",
        "\n",
        "# print out the payslip nicely formatted\n",
        "print(f'\\n2=== Payslip of {name} ===')\n",
        "print(f\"Salary: {salary:9} \\nCommission: {comm_result:2} \\nTax: {tax_result:13} \\nTotal pay: {pay_result:8}\")\n"
      ],
      "metadata": {
        "id": "uqjNAtdf8zM-"
      },
      "execution_count": null,
      "outputs": []
    },
    {
      "cell_type": "markdown",
      "source": [
        "## Modify the *payslip* program to include handling for any exceptions or errors that may be raised"
      ],
      "metadata": {
        "id": "UCG4KxkJ-wBF"
      }
    },
    {
      "cell_type": "markdown",
      "source": [
        "### validate user inputs - ensure user key in valid data"
      ],
      "metadata": {
        "id": "wpJCDBqdxBSi"
      }
    },
    {
      "cell_type": "code",
      "source": [
        "!pip install pyinputplus"
      ],
      "metadata": {
        "id": "C_VN2JQbxsVT"
      },
      "execution_count": null,
      "outputs": []
    },
    {
      "cell_type": "code",
      "source": [
        "import pyinputplus as pyip\n",
        "\n",
        "name = pyip.inputStr(\"Please enter name: \")\n",
        "salary = pyip.inputInt(\"Please enter salary: \")\n",
        "sales = pyip.inputInt(\"Please enter sales: \")\n",
        "comm_rate = pyip.inputFloat(\"Please enter commission rate: \")\n",
        "\n",
        "# pass the salary, sales & commission values to function calculate_pay\n",
        "# receive/capture the return values from the function\n",
        "comm_result, tax_result, pay_result = calculate_pay(salary, sales, comm_rate)\n",
        "\n",
        "# print out the payslip nicely formatted\n",
        "print(f'\\n=== Payslip of {name} ===')\n",
        "print(f\"Salary: {salary:9} \\nCommission: {comm_result:2} \\nTax: {tax_result:13} \\nTotal pay: {pay_result:8}\")"
      ],
      "metadata": {
        "id": "7FtrZewoY9z-",
        "colab": {
          "base_uri": "https://localhost:8080/"
        },
        "outputId": "d25cbfbf-7feb-49b5-c704-c2f62630354e"
      },
      "execution_count": 9,
      "outputs": [
        {
          "output_type": "stream",
          "name": "stdout",
          "text": [
            "Please enter name: Radha\n",
            "Please enter salary: 20000\n",
            "Please enter sales: 30000\n",
            "Please enter commission rate: 2.5\n",
            "\n",
            "2=== Payslip of Radha ===\n",
            "Salary:     20000 \n",
            "Commission: 750.0 \n",
            "Tax:        2075.0 \n",
            "Total pay:  18675.0\n"
          ]
        }
      ]
    },
    {
      "cell_type": "markdown",
      "source": [
        "### input validation and error hadling using try/except method"
      ],
      "metadata": {
        "id": "SM3eSXdCz3Wl"
      }
    },
    {
      "cell_type": "code",
      "source": [
        "  name = input(\"Please enter name: \")\n",
        "  salary = int(input(\"Please enter salary: \"))\n",
        "  sales = int(input(\"Please enter sales: \"))\n",
        "  comm_rate = float(input(\"Please enter commission rate: \"))"
      ],
      "metadata": {
        "colab": {
          "base_uri": "https://localhost:8080/",
          "height": 263
        },
        "id": "MyQPi7qh0QYM",
        "outputId": "401a0601-03e3-43cf-c0fe-5d3879fce42b"
      },
      "execution_count": 11,
      "outputs": [
        {
          "name": "stdout",
          "output_type": "stream",
          "text": [
            "Please enter name: r\n",
            "Please enter salary: 12.5\n"
          ]
        },
        {
          "output_type": "error",
          "ename": "ValueError",
          "evalue": "ignored",
          "traceback": [
            "\u001b[0;31m---------------------------------------------------------------------------\u001b[0m",
            "\u001b[0;31mValueError\u001b[0m                                Traceback (most recent call last)",
            "\u001b[0;32m<ipython-input-11-55ccab08d039>\u001b[0m in \u001b[0;36m<module>\u001b[0;34m\u001b[0m\n\u001b[1;32m      1\u001b[0m \u001b[0mname\u001b[0m \u001b[0;34m=\u001b[0m \u001b[0minput\u001b[0m\u001b[0;34m(\u001b[0m\u001b[0;34m\"Please enter name: \"\u001b[0m\u001b[0;34m)\u001b[0m\u001b[0;34m\u001b[0m\u001b[0;34m\u001b[0m\u001b[0m\n\u001b[0;32m----> 2\u001b[0;31m \u001b[0msalary\u001b[0m \u001b[0;34m=\u001b[0m \u001b[0mint\u001b[0m\u001b[0;34m(\u001b[0m\u001b[0minput\u001b[0m\u001b[0;34m(\u001b[0m\u001b[0;34m\"Please enter salary: \"\u001b[0m\u001b[0;34m)\u001b[0m\u001b[0;34m)\u001b[0m\u001b[0;34m\u001b[0m\u001b[0;34m\u001b[0m\u001b[0m\n\u001b[0m\u001b[1;32m      3\u001b[0m \u001b[0msales\u001b[0m \u001b[0;34m=\u001b[0m \u001b[0mint\u001b[0m\u001b[0;34m(\u001b[0m\u001b[0minput\u001b[0m\u001b[0;34m(\u001b[0m\u001b[0;34m\"Please enter sales: \"\u001b[0m\u001b[0;34m)\u001b[0m\u001b[0;34m)\u001b[0m\u001b[0;34m\u001b[0m\u001b[0;34m\u001b[0m\u001b[0m\n\u001b[1;32m      4\u001b[0m \u001b[0mcomm_rate\u001b[0m \u001b[0;34m=\u001b[0m \u001b[0mfloat\u001b[0m\u001b[0;34m(\u001b[0m\u001b[0minput\u001b[0m\u001b[0;34m(\u001b[0m\u001b[0;34m\"Please enter commission rate: \"\u001b[0m\u001b[0;34m)\u001b[0m\u001b[0;34m)\u001b[0m\u001b[0;34m\u001b[0m\u001b[0;34m\u001b[0m\u001b[0m\n",
            "\u001b[0;31mValueError\u001b[0m: invalid literal for int() with base 10: '12.5'"
          ]
        }
      ]
    },
    {
      "cell_type": "code",
      "source": [
        "\n",
        "try:\n",
        "  name = input(\"Please enter name: \")\n",
        "  salary = int(input(\"Please enter salary: \"))\n",
        "  sales = int(input(\"Please enter sales: \"))\n",
        "  comm_rate = float(input(\"Please enter commission rate: \"))\n",
        "except ValueError:\n",
        "  print(\"Please enter a whole number\")\n",
        "except:\n",
        "  print(\"Invalid input. Please try again\")\n"
      ],
      "metadata": {
        "colab": {
          "base_uri": "https://localhost:8080/"
        },
        "id": "BpWnznUMztXI",
        "outputId": "f021b7ac-567e-47d5-d58f-693f1d349d5d"
      },
      "execution_count": 15,
      "outputs": [
        {
          "name": "stdout",
          "output_type": "stream",
          "text": [
            "Please enter name: R\n",
            "Please enter salary: 23\n",
            "Please enter sales: 34\n",
            "Please enter commission rate: 3\n"
          ]
        }
      ]
    }
  ],
  "metadata": {
    "colab": {
      "provenance": [],
      "include_colab_link": true
    },
    "kernelspec": {
      "display_name": "Python 3",
      "language": "python",
      "name": "python3"
    },
    "language_info": {
      "codemirror_mode": {
        "name": "ipython",
        "version": 3
      },
      "file_extension": ".py",
      "mimetype": "text/x-python",
      "name": "python",
      "nbconvert_exporter": "python",
      "pygments_lexer": "ipython3",
      "version": "3.8.8"
    }
  },
  "nbformat": 4,
  "nbformat_minor": 0
}